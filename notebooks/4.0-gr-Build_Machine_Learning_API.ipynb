{
 "cells": [
  {
   "cell_type": "markdown",
   "metadata": {},
   "source": [
    "# Hello World API with Flask"
   ]
  },
  {
   "cell_type": "code",
   "execution_count": 3,
   "metadata": {},
   "outputs": [],
   "source": [
    "# We'll create the script - we created our folder structure with cookiecutter \n",
    "import os\n",
    "hello_world_script_file = os.path.join(os.path.pardir,'src','models','hello_world_api2.py')"
   ]
  },
  {
   "cell_type": "code",
   "execution_count": 13,
   "metadata": {},
   "outputs": [
    {
     "name": "stdout",
     "output_type": "stream",
     "text": [
      "Overwriting ../src/models/hello_world_api2.py\n"
     ]
    }
   ],
   "source": [
    "%%writefile $hello_world_script_file\n",
    "\n",
    "from flask import Flask, request\n",
    "app = Flask(__name__)\n",
    "\n",
    "@app.route('/api', methods=['POST']) #api will take an input, process it, and return it\n",
    "\n",
    "def say_hello():\n",
    "    data = request.get_json(force=True) #we will pass json, so use get_json to get extract the data\n",
    "    name = data['name']\n",
    "    return \"hello {0}\".format(name)\n",
    "\n",
    "if __name__ == '__main__': # script entry point, the flask app will run on port 10001 - can be any available port\n",
    "    app.run(port=10001, debug=True,use_reloader=False) # debug = true for troubleshooting in dev"
   ]
  },
  {
   "cell_type": "code",
   "execution_count": 6,
   "metadata": {},
   "outputs": [],
   "source": [
    "# We have started the process via the command line with python3 hellow_world_api2.py\n",
    "import json"
   ]
  },
  {
   "cell_type": "code",
   "execution_count": 7,
   "metadata": {},
   "outputs": [],
   "source": [
    "import requests"
   ]
  },
  {
   "cell_type": "code",
   "execution_count": 14,
   "metadata": {},
   "outputs": [],
   "source": [
    "# create a call to the API endpoint\n",
    "url = 'http://127.0.0.1:10001/api'\n",
    "#create the data we are sending\n",
    "data = json.dumps({'name':'graeme'}) #dumps creates the data in a json object\n",
    "r = requests.post(url, data) #call the API and store response in r."
   ]
  },
  {
   "cell_type": "code",
   "execution_count": 15,
   "metadata": {},
   "outputs": [
    {
     "name": "stdout",
     "output_type": "stream",
     "text": [
      "hello graeme\n"
     ]
    }
   ],
   "source": [
    "print(r.text)"
   ]
  },
  {
   "cell_type": "code",
   "execution_count": 16,
   "metadata": {},
   "outputs": [],
   "source": [
    "# This is calling the API and returning correctly :D"
   ]
  },
  {
   "cell_type": "markdown",
   "metadata": {},
   "source": [
    "# API for Machine Learning with Flask"
   ]
  },
  {
   "cell_type": "code",
   "execution_count": 18,
   "metadata": {},
   "outputs": [],
   "source": [
    "# We'll create the script - we created our folder structure with cookiecutter \n",
    "import os\n",
    "machine_learning_api_script_file = os.path.join(os.path.pardir,'src','models','machine_learning_api.py')"
   ]
  },
  {
   "cell_type": "code",
   "execution_count": 40,
   "metadata": {},
   "outputs": [
    {
     "name": "stdout",
     "output_type": "stream",
     "text": [
      "Overwriting ../src/models/machine_learning_api.py\n"
     ]
    }
   ],
   "source": [
    "%%writefile $machine_learning_api_script_file\n",
    "# Now this is the code we used from all the previous steps we performed.\n",
    "\n",
    "\n",
    "from flask import Flask, request\n",
    "import pandas as pd\n",
    "import numpy as np\n",
    "import json\n",
    "import pickle\n",
    "import os\n",
    "\n",
    "app = Flask(__name__)\n",
    "\n",
    "#load the model and scaler files\n",
    "model_path = os.path.join(os.path.pardir, os.path.pardir,'models')\n",
    "model_filepath = os.path.join(model_path, 'lr_model.pkl')\n",
    "scaler_filepath = os.path.join(model_path, 'lr_scaler.pkl')\n",
    "\n",
    "#load them in\n",
    "scaler = pickle.load(open(scaler_filepath,'rb')) #remember to set read more binary\n",
    "model  = pickle.load(open(model_filepath,'rb'))\n",
    "\n",
    "# columns put in order that the ML model will expect\n",
    "columns = [ u'Age', u'Fare', u'FamilySize', \\\n",
    "       u'IsMother', u'IsMale', u'Deck_A', u'Deck_B', u'Deck_C', u'Deck_D', \\\n",
    "       u'Deck_E', u'Deck_F', u'Deck_G', u'Deck_Z', u'Pclass_1', u'Pclass_2', \\\n",
    "       u'Pclass_3', u'Title_Lady', u'Title_Master', u'Title_Miss', u'Title_Mr', \\\n",
    "       u'Title_Mrs', u'Title_Officer', u'Title_Sir', u'Fare_Bin_very_low', \\\n",
    "       u'Fare_Bin_low', u'Fare_Bin_high', u'Fare_Bin_very_high', u'Embarked_C', \\\n",
    "       u'Embarked_Q', u'Embarked_S', u'AgeState_Adult', u'AgeState_Child'] \n",
    "\n",
    "@app.route('/api', methods=['POST'])\n",
    "def make_predicitions():\n",
    "    #This will be executed with the API is called\n",
    "    #Read the json object and convert it to a json string\n",
    "    data = json.dumps(request.get_json(force='TRUE'))\n",
    "    #create a data frame from the json string\n",
    "    df = pd.read_json(data)\n",
    "    #extract the index passenger id\n",
    "    passenger_ids = df['PassengerId'].ravel()\n",
    "    # capture the actual survived values -- we do not have all the actuals, those are on Kaggle, but this is how\n",
    "    # this API process would work, if we did have a store of all the actual survival data\n",
    "    actuals = df['Survived'].ravel()\n",
    "    # extract all the columns from the data and convert into a matrix\n",
    "    X = df[columns].as_matrix().astype('float')\n",
    "    # transform the data into the scaled object\n",
    "    X_scaled = scaler.transform(X)\n",
    "    # make the predicitions\n",
    "    predictions = model.predict(X_scaled)\n",
    "    # create response object dataframe\n",
    "    df_response = pd.DataFrame({'PassengerId': passenger_ids, 'Predicted': predictions, 'Actual': actuals})\n",
    "    # return our JSON object\n",
    "    return df_response.to_json()\n",
    "\n",
    "if __name__ == '__main__':\n",
    "    #host the flask app\n",
    "    app.run(port=10001, debug=True,use_reloader=False) # debug = true for troubleshooting in dev\n",
    "    "
   ]
  },
  {
   "cell_type": "code",
   "execution_count": 25,
   "metadata": {},
   "outputs": [],
   "source": [
    "# now we run the flask server from the command line\n",
    "# $ python3 machine_learning_api.py\n"
   ]
  },
  {
   "cell_type": "markdown",
   "metadata": {},
   "source": [
    "## Invoke API using the Requests feature"
   ]
  },
  {
   "cell_type": "code",
   "execution_count": 50,
   "metadata": {},
   "outputs": [],
   "source": [
    "import os\n",
    "import numpy as np\n",
    "import pandas as pd\n",
    "processed_data_path = os.path.join(os.path.pardir,'data','processed')\n",
    "train_file_path = os.path.join(processed_data_path, 'train.csv')\n",
    "train_df = pd.read_csv(train_file_path)"
   ]
  },
  {
   "cell_type": "code",
   "execution_count": 42,
   "metadata": {},
   "outputs": [
    {
     "data": {
      "text/html": [
       "<div>\n",
       "<style scoped>\n",
       "    .dataframe tbody tr th:only-of-type {\n",
       "        vertical-align: middle;\n",
       "    }\n",
       "\n",
       "    .dataframe tbody tr th {\n",
       "        vertical-align: top;\n",
       "    }\n",
       "\n",
       "    .dataframe thead th {\n",
       "        text-align: right;\n",
       "    }\n",
       "</style>\n",
       "<table border=\"1\" class=\"dataframe\">\n",
       "  <thead>\n",
       "    <tr style=\"text-align: right;\">\n",
       "      <th></th>\n",
       "      <th>PassengerId</th>\n",
       "      <th>Survived</th>\n",
       "      <th>Age</th>\n",
       "      <th>Fare</th>\n",
       "      <th>FamilySize</th>\n",
       "      <th>IsMother</th>\n",
       "      <th>IsMale</th>\n",
       "      <th>Deck_A</th>\n",
       "      <th>Deck_B</th>\n",
       "      <th>Deck_C</th>\n",
       "      <th>...</th>\n",
       "      <th>Title_Sir</th>\n",
       "      <th>Fare_Bin_very_low</th>\n",
       "      <th>Fare_Bin_low</th>\n",
       "      <th>Fare_Bin_high</th>\n",
       "      <th>Fare_Bin_very_high</th>\n",
       "      <th>Embarked_C</th>\n",
       "      <th>Embarked_Q</th>\n",
       "      <th>Embarked_S</th>\n",
       "      <th>AgeState_Adult</th>\n",
       "      <th>AgeState_Child</th>\n",
       "    </tr>\n",
       "  </thead>\n",
       "  <tbody>\n",
       "    <tr>\n",
       "      <th>1</th>\n",
       "      <td>2</td>\n",
       "      <td>1</td>\n",
       "      <td>38.0</td>\n",
       "      <td>71.2833</td>\n",
       "      <td>2</td>\n",
       "      <td>0</td>\n",
       "      <td>0</td>\n",
       "      <td>0</td>\n",
       "      <td>0</td>\n",
       "      <td>1</td>\n",
       "      <td>...</td>\n",
       "      <td>0</td>\n",
       "      <td>0</td>\n",
       "      <td>0</td>\n",
       "      <td>0</td>\n",
       "      <td>1</td>\n",
       "      <td>1</td>\n",
       "      <td>0</td>\n",
       "      <td>0</td>\n",
       "      <td>1</td>\n",
       "      <td>0</td>\n",
       "    </tr>\n",
       "    <tr>\n",
       "      <th>2</th>\n",
       "      <td>3</td>\n",
       "      <td>1</td>\n",
       "      <td>26.0</td>\n",
       "      <td>7.9250</td>\n",
       "      <td>1</td>\n",
       "      <td>0</td>\n",
       "      <td>0</td>\n",
       "      <td>0</td>\n",
       "      <td>0</td>\n",
       "      <td>0</td>\n",
       "      <td>...</td>\n",
       "      <td>0</td>\n",
       "      <td>0</td>\n",
       "      <td>1</td>\n",
       "      <td>0</td>\n",
       "      <td>0</td>\n",
       "      <td>0</td>\n",
       "      <td>0</td>\n",
       "      <td>1</td>\n",
       "      <td>1</td>\n",
       "      <td>0</td>\n",
       "    </tr>\n",
       "    <tr>\n",
       "      <th>3</th>\n",
       "      <td>4</td>\n",
       "      <td>1</td>\n",
       "      <td>35.0</td>\n",
       "      <td>53.1000</td>\n",
       "      <td>2</td>\n",
       "      <td>0</td>\n",
       "      <td>0</td>\n",
       "      <td>0</td>\n",
       "      <td>0</td>\n",
       "      <td>1</td>\n",
       "      <td>...</td>\n",
       "      <td>0</td>\n",
       "      <td>0</td>\n",
       "      <td>0</td>\n",
       "      <td>0</td>\n",
       "      <td>1</td>\n",
       "      <td>0</td>\n",
       "      <td>0</td>\n",
       "      <td>1</td>\n",
       "      <td>1</td>\n",
       "      <td>0</td>\n",
       "    </tr>\n",
       "    <tr>\n",
       "      <th>8</th>\n",
       "      <td>9</td>\n",
       "      <td>1</td>\n",
       "      <td>27.0</td>\n",
       "      <td>11.1333</td>\n",
       "      <td>3</td>\n",
       "      <td>1</td>\n",
       "      <td>0</td>\n",
       "      <td>0</td>\n",
       "      <td>0</td>\n",
       "      <td>0</td>\n",
       "      <td>...</td>\n",
       "      <td>0</td>\n",
       "      <td>0</td>\n",
       "      <td>1</td>\n",
       "      <td>0</td>\n",
       "      <td>0</td>\n",
       "      <td>0</td>\n",
       "      <td>0</td>\n",
       "      <td>1</td>\n",
       "      <td>1</td>\n",
       "      <td>0</td>\n",
       "    </tr>\n",
       "    <tr>\n",
       "      <th>9</th>\n",
       "      <td>10</td>\n",
       "      <td>1</td>\n",
       "      <td>14.0</td>\n",
       "      <td>30.0708</td>\n",
       "      <td>2</td>\n",
       "      <td>0</td>\n",
       "      <td>0</td>\n",
       "      <td>0</td>\n",
       "      <td>0</td>\n",
       "      <td>0</td>\n",
       "      <td>...</td>\n",
       "      <td>0</td>\n",
       "      <td>0</td>\n",
       "      <td>0</td>\n",
       "      <td>1</td>\n",
       "      <td>0</td>\n",
       "      <td>1</td>\n",
       "      <td>0</td>\n",
       "      <td>0</td>\n",
       "      <td>0</td>\n",
       "      <td>1</td>\n",
       "    </tr>\n",
       "  </tbody>\n",
       "</table>\n",
       "<p>5 rows × 34 columns</p>\n",
       "</div>"
      ],
      "text/plain": [
       "   PassengerId  Survived   Age     Fare  FamilySize  IsMother  IsMale  Deck_A  \\\n",
       "1            2         1  38.0  71.2833           2         0       0       0   \n",
       "2            3         1  26.0   7.9250           1         0       0       0   \n",
       "3            4         1  35.0  53.1000           2         0       0       0   \n",
       "8            9         1  27.0  11.1333           3         1       0       0   \n",
       "9           10         1  14.0  30.0708           2         0       0       0   \n",
       "\n",
       "   Deck_B  Deck_C       ...        Title_Sir  Fare_Bin_very_low  Fare_Bin_low  \\\n",
       "1       0       1       ...                0                  0             0   \n",
       "2       0       0       ...                0                  0             1   \n",
       "3       0       1       ...                0                  0             0   \n",
       "8       0       0       ...                0                  0             1   \n",
       "9       0       0       ...                0                  0             0   \n",
       "\n",
       "   Fare_Bin_high  Fare_Bin_very_high  Embarked_C  Embarked_Q  Embarked_S  \\\n",
       "1              0                   1           1           0           0   \n",
       "2              0                   0           0           0           1   \n",
       "3              0                   1           0           0           1   \n",
       "8              0                   0           0           0           1   \n",
       "9              1                   0           1           0           0   \n",
       "\n",
       "   AgeState_Adult  AgeState_Child  \n",
       "1               1               0  \n",
       "2               1               0  \n",
       "3               1               0  \n",
       "8               1               0  \n",
       "9               0               1  \n",
       "\n",
       "[5 rows x 34 columns]"
      ]
     },
     "execution_count": 42,
     "metadata": {},
     "output_type": "execute_result"
    }
   ],
   "source": [
    "# the processed training data will be used to check the API is working\n",
    "# let's use 5 passengers to check to see if they Survived\n",
    "survived_passengers = train_df[train_df['Survived'] == 1][:5]\n",
    "survived_passengers\n"
   ]
  },
  {
   "cell_type": "code",
   "execution_count": 45,
   "metadata": {},
   "outputs": [],
   "source": [
    "# We should get same response from API.  Let's create a helper\n",
    "import requests\n",
    "def make_api_request(data):\n",
    "    # url where the API is exposed\n",
    "    url = \"http://127.0.0.1:10001/api\"\n",
    "    #request\n",
    "    r = requests.post(url, data)\n",
    "    #return\n",
    "    # return r.text - check we get something\n",
    "    return r.json()"
   ]
  },
  {
   "cell_type": "code",
   "execution_count": 46,
   "metadata": {},
   "outputs": [
    {
     "data": {
      "text/plain": [
       "{'PassengerId': {'0': 2, '1': 3, '2': 4, '3': 9, '4': 10},\n",
       " 'Predicted': {'0': 1, '1': 1, '2': 1, '3': 1, '4': 1},\n",
       " 'Actual': {'0': 1, '1': 1, '2': 1, '3': 1, '4': 1}}"
      ]
     },
     "execution_count": 46,
     "metadata": {},
     "output_type": "execute_result"
    }
   ],
   "source": [
    "# This should retrn the same output of Survived, as a check that hte API is working\n",
    "make_api_request(survived_passengers.to_json())"
   ]
  },
  {
   "cell_type": "code",
   "execution_count": 47,
   "metadata": {},
   "outputs": [],
   "source": [
    "# As we can see, all Survived"
   ]
  },
  {
   "cell_type": "code",
   "execution_count": 48,
   "metadata": {},
   "outputs": [
    {
     "data": {
      "text/html": [
       "<div>\n",
       "<style scoped>\n",
       "    .dataframe tbody tr th:only-of-type {\n",
       "        vertical-align: middle;\n",
       "    }\n",
       "\n",
       "    .dataframe tbody tr th {\n",
       "        vertical-align: top;\n",
       "    }\n",
       "\n",
       "    .dataframe thead th {\n",
       "        text-align: right;\n",
       "    }\n",
       "</style>\n",
       "<table border=\"1\" class=\"dataframe\">\n",
       "  <thead>\n",
       "    <tr style=\"text-align: right;\">\n",
       "      <th></th>\n",
       "      <th>PassengerId</th>\n",
       "      <th>Predicted</th>\n",
       "      <th>Actual</th>\n",
       "    </tr>\n",
       "  </thead>\n",
       "  <tbody>\n",
       "    <tr>\n",
       "      <th>0</th>\n",
       "      <td>1</td>\n",
       "      <td>0</td>\n",
       "      <td>0</td>\n",
       "    </tr>\n",
       "    <tr>\n",
       "      <th>1</th>\n",
       "      <td>2</td>\n",
       "      <td>1</td>\n",
       "      <td>1</td>\n",
       "    </tr>\n",
       "    <tr>\n",
       "      <th>10</th>\n",
       "      <td>108</td>\n",
       "      <td>0</td>\n",
       "      <td>1</td>\n",
       "    </tr>\n",
       "    <tr>\n",
       "      <th>100</th>\n",
       "      <td>190</td>\n",
       "      <td>0</td>\n",
       "      <td>0</td>\n",
       "    </tr>\n",
       "    <tr>\n",
       "      <th>101</th>\n",
       "      <td>20</td>\n",
       "      <td>1</td>\n",
       "      <td>1</td>\n",
       "    </tr>\n",
       "  </tbody>\n",
       "</table>\n",
       "</div>"
      ],
      "text/plain": [
       "     PassengerId  Predicted  Actual\n",
       "0              1          0       0\n",
       "1              2          1       1\n",
       "10           108          0       1\n",
       "100          190          0       0\n",
       "101           20          1       1"
      ]
     },
     "execution_count": 48,
     "metadata": {},
     "output_type": "execute_result"
    }
   ],
   "source": [
    "# Now pass the entire Training df to the api function\n",
    "# then convert the result to JSON and put it into a result df\n",
    "# Have a look at the top 5, then check accuracy by compare Actual to Predicted\n",
    "# Then we will convert that into a Mean value, to get the accuracy.\n",
    "result = make_api_request(train_df.to_json())\n",
    "df_result = pd.read_json(json.dumps(result))\n",
    "df_result.head()"
   ]
  },
  {
   "cell_type": "code",
   "execution_count": 52,
   "metadata": {},
   "outputs": [
    {
     "data": {
      "text/plain": [
       "0.8383838383838383"
      ]
     },
     "execution_count": 52,
     "metadata": {},
     "output_type": "execute_result"
    }
   ],
   "source": [
    "# what is the oveall accuracy?\n",
    "np.mean(df_result.Actual == df_result.Predicted)"
   ]
  },
  {
   "cell_type": "code",
   "execution_count": 53,
   "metadata": {},
   "outputs": [],
   "source": [
    "# This is as expected from our previous modeling persistence demo\n",
    "# So now we have a machine learning API\n",
    "#\n",
    "# How could we improve the API?\n",
    "# We should be able to tinker to allow the raw data to be feed, to be processed then passing that dat to the model"
   ]
  },
  {
   "cell_type": "code",
   "execution_count": null,
   "metadata": {},
   "outputs": [],
   "source": []
  }
 ],
 "metadata": {
  "kernelspec": {
   "display_name": "Python 3",
   "language": "python",
   "name": "python3"
  },
  "language_info": {
   "codemirror_mode": {
    "name": "ipython",
    "version": 3
   },
   "file_extension": ".py",
   "mimetype": "text/x-python",
   "name": "python",
   "nbconvert_exporter": "python",
   "pygments_lexer": "ipython3",
   "version": "3.6.5"
  }
 },
 "nbformat": 4,
 "nbformat_minor": 2
}
